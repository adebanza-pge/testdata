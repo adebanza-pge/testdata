{
 "cells": [
  {
   "cell_type": "markdown",
   "id": "882fa219",
   "metadata": {},
   "source": [
    "# EDA & Explainability (lightweight)\n",
    "Use feature importances from Gradient Boosting; SHAP optional."
   ]
  },
  {
   "cell_type": "code",
   "execution_count": null,
   "id": "42fb4865",
   "metadata": {},
   "outputs": [],
   "source": [
    "import pandas as pd\n",
    "import matplotlib.pyplot as plt\n",
    "from sklearn.ensemble import GradientBoostingClassifier\n",
    "from sklearn.compose import ColumnTransformer\n",
    "from sklearn.pipeline import Pipeline\n",
    "from sklearn.preprocessing import OneHotEncoder\n",
    "from sklearn.impute import SimpleImputer\n",
    "assets = pd.read_csv('asset_registry.csv'); pred = pd.read_csv('predictions_gas_corrosion.csv')\n",
    "df = assets.merge(pred, on='AssetID', how='left'); gas = df[df['Commodity']=='Gas']\n",
    "X_cols=['Region','System','AssetType','Material','CoatingType','SeamType','ClassLocation','HCA_Flag','SoilCorrosivityIndex','MAOP_psig','PipeToSoilPotential_mV','AgeYears','DiameterInches','CPStatus','CorrosionRiskScore_Rubric']\n",
    "X=gas[X_cols]; y=(gas['PredictedRisk_Bucket'].isin(['High','Critical'])).astype(int)\n",
    "pre=ColumnTransformer([('num',Pipeline([('imp',SimpleImputer(strategy='median'))]),['SoilCorrosivityIndex','MAOP_psig','PipeToSoilPotential_mV','AgeYears','DiameterInches','CorrosionRiskScore_Rubric','ClassLocation']),('cat',Pipeline([('imp',SimpleImputer(strategy='most_frequent')),('oh',OneHotEncoder(handle_unknown='ignore'))]),['Region','System','AssetType','Material','CoatingType','SeamType','HCA_Flag','CPStatus'])])\n",
    "model=Pipeline([('pre',pre),('clf',GradientBoostingClassifier(random_state=42))]).fit(X,y)\n",
    "importances=model.named_steps['clf'].feature_importances_\n",
    "print('Top importances (first 10):',importances[:10])"
   ]
  }
 ],
 "metadata": {},
 "nbformat": 4,
 "nbformat_minor": 5
}
