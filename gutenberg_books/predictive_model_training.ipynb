{
 "cells": [
  {
   "cell_type": "markdown",
   "id": "ecc5ca33",
   "metadata": {},
   "source": [
    "# Predictive Modeling – Gas Corrosion Risk"
   ]
  },
  {
   "cell_type": "code",
   "execution_count": null,
   "id": "1f2c6ea6",
   "metadata": {},
   "outputs": [],
   "source": [
    "import pandas as pd, os\n",
    "from sklearn.model_selection import train_test_split\n",
    "from sklearn.metrics import roc_auc_score\n",
    "from sklearn.preprocessing import OneHotEncoder\n",
    "from sklearn.compose import ColumnTransformer\n",
    "from sklearn.pipeline import Pipeline\n",
    "from sklearn.linear_model import LogisticRegression\n",
    "from sklearn.ensemble import GradientBoostingClassifier\n",
    "from sklearn.impute import SimpleImputer\n",
    "assets = pd.read_csv('asset_registry.csv'); labels = pd.read_csv('labels_gas_corrosion.csv')\n",
    "X_cols=['Region','System','AssetType','Material','CoatingType','SeamType','ClassLocation','HCA_Flag','SoilCorrosivityIndex','MAOP_psig','PipeToSoilPotential_mV','AgeYears','DiameterInches','CPStatus','CorrosionRiskScore_Rubric']\n",
    "df = assets[assets['Commodity']=='Gas'][['AssetID']+X_cols].merge(labels,on='AssetID'); X=df[X_cols]; y=df['CorrosionFinding']\n",
    "pre=ColumnTransformer([('num',Pipeline([('imp',SimpleImputer(strategy='median'))]),['SoilCorrosivityIndex','MAOP_psig','PipeToSoilPotential_mV','AgeYears','DiameterInches','CorrosionRiskScore_Rubric','ClassLocation']),('cat',Pipeline([('imp',SimpleImputer(strategy='most_frequent')),('oh',OneHotEncoder(handle_unknown='ignore'))]),['Region','System','AssetType','Material','CoatingType','SeamType','HCA_Flag','CPStatus'])])\n",
    "Xtr,Xte,ytr,yte=train_test_split(X,y,test_size=0.25,random_state=42,stratify=y)\n",
    "logit=Pipeline([('pre',pre),('clf',LogisticRegression(max_iter=400))]).fit(Xtr,ytr)\n",
    "print('AUC:',roc_auc_score(yte,logit.predict_proba(Xte)[:,1]))"
   ]
  }
 ],
 "metadata": {},
 "nbformat": 4,
 "nbformat_minor": 5
}
